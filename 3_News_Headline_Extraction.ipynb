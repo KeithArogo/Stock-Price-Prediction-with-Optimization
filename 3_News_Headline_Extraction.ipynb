{
  "nbformat": 4,
  "nbformat_minor": 0,
  "metadata": {
    "colab": {
      "name": "3. News Headline Extraction.ipynb",
      "provenance": [],
      "collapsed_sections": []
    },
    "kernelspec": {
      "name": "python3",
      "display_name": "Python 3"
    },
    "language_info": {
      "name": "python"
    }
  },
  "cells": [
    {
      "cell_type": "code",
      "metadata": {
        "id": "GobV7mCRel9d"
      },
      "source": [
        "#import libraries\n",
        "from pydrive.auth import GoogleAuth \n",
        "from pydrive.drive import GoogleDrive \n",
        "from google.colab import auth \n",
        "from oauth2client.client import GoogleCredentials \n",
        "import pandas as pd\n",
        "from sklearn.ensemble import RandomForestRegressor\n",
        "from IPython.display import Image\n",
        "import numpy as np\n",
        "import pandas_datareader as web\n",
        "%matplotlib inline\n",
        "import matplotlib.pyplot as plt\n",
        "import seaborn as sns\n",
        "from sklearn import metrics  \n",
        "import random\n",
        "from sklearn.decomposition import PCA\n",
        "from sklearn.preprocessing import MinMaxScaler\n",
        "import math"
      ],
      "execution_count": null,
      "outputs": []
    },
    {
      "cell_type": "code",
      "metadata": {
        "colab": {
          "base_uri": "https://localhost:8080/"
        },
        "id": "iHVLtGMVj-nQ",
        "outputId": "76cc350c-1bf9-4295-cac1-8fd9e1ad68c3"
      },
      "source": [
        "import os\n",
        "import matplotlib.pyplot as plt\n",
        "from bs4 import BeautifulSoup\n",
        "from urllib.request import urlopen, Request\n",
        "from nltk.sentiment.vader import SentimentIntensityAnalyzer\n",
        "import nltk\n",
        "nltk.download('vader_lexicon')"
      ],
      "execution_count": null,
      "outputs": [
        {
          "output_type": "stream",
          "text": [
            "/usr/local/lib/python3.7/dist-packages/nltk/twitter/__init__.py:20: UserWarning: The twython library has not been installed. Some functionality from the twitter package will not be available.\n",
            "  warnings.warn(\"The twython library has not been installed. \"\n"
          ],
          "name": "stderr"
        },
        {
          "output_type": "stream",
          "text": [
            "[nltk_data] Downloading package vader_lexicon to /root/nltk_data...\n"
          ],
          "name": "stdout"
        },
        {
          "output_type": "execute_result",
          "data": {
            "text/plain": [
              "True"
            ]
          },
          "metadata": {
            "tags": []
          },
          "execution_count": 5
        }
      ]
    },
    {
      "cell_type": "code",
      "metadata": {
        "id": "QbVPce2Dgbxp"
      },
      "source": [
        "#List of all relevant tickers on the S n P 500\n",
        "Tickers = [\"MMM\" , \"AOS\" , \"ABT\" , \"ABBV\" , \"ABMD\" , \"ACN\" , \"ATVI\" , \"ADBE\" , \"AAP\" , \"AMD\" , \"AES\" , \"AFL\" , \"A\" , \"APD\" , \"AKAM\" , \"ALK\" , \"ALB\" , \"ARE\" , \"ALXN\" , \"ALGN\" , \"ALLE\" , \"LNT\" , \"ALL\" , \"GOOGL\" , \"GOOG\" , \"MO\" , \"AMZN\" , \"AMCR\" , \"AEE\" , \"AAL\" , \"AEP\" , \"AXP\" , \"AIG\" , \"AMT\" , \"AWK\" , \"AMP\" , \"ABC\" , \"AME\" , \"AMGN\" , \"APH\" , \"ADI\" , \"ANSS\" , \"ANTM\" , \"AON\" , \"APA\" , \"AIV\" , \"AAPL\" , \"AMAT\" , \"APTV\" , \"ADM\" , \"ANET\" , \"AJG\" , \"AIZ\" , \"T\" , \"ATO\" , \"ADSK\" , \"ADP\" , \"AZO\" , \"AVB\" , \"AVY\" , \"BKR\" , \"BLL\" , \"BAC\" , \"BAX\" , \"BDX\" ,  \"BBY\" , \"BIO\" , \"BIIB\" , \"BLK\" , \"BA\" , \"BKNG\" , \"BWA\" , \"BXP\" , \"BSX\" , \"BMY\" , \"AVGO\" , \"BR\" ,  \"CHRW\" , \"COG\" , \"CDNS\" , \"CPB\" , \"COF\" , \"CAH\" , \"KMX\" , \"CCL\" , \"CARR\" , \"CAT\" , \"CBOE\" , \"CBRE\" , \"CDW\" , \"CE\" , \"CNC\" , \"CNP\" , \"CERN\" , \"CF\" , \"SCHW\" , \"CHTR\" , \"CVX\" , \"CMG\" , \"CB\" , \"CHD\" , \"CI\" , \"CINF\" , \"CTAS\" , \"CSCO\" , \"C\" , \"CFG\" , \"CTXS\" , \"CME\" , \"CMS\" , \"KO\" , \"CTSH\" , \"CL\" , \"CMCSA\" , \"CMA\" , \"CAG\" , \"COP\" , \"ED\" , \"STZ\" , \"CPRT\" , \"GLW\" , \"CTVA\" , \"COST\" , \"COTY\" , \"CCI\" , \"CSX\" , \"CMI\" , \"CVS\" , \"DHI\" , \"DHR\" , \"DRI\" , \"DVA\" , \"DE\" , \"DAL\" , \"XRAY\" , \"DVN\" , \"DXCM\" , \"FANG\" , \"DLR\" , \"DFS\" , \"DISCA\" , \"DISCK\" , \"DISH\" , \"DG\" , \"DLTR\" , \"D\" , \"DPZ\" , \"DOV\" , \"DOW\" , \"DTE\" , \"DUK\" , \"DRE\" , \"DD\" , \"DXC\" , \"EMN\" , \"ETN\" , \"EBAY\" , \"ECL\" , \"EIX\" , \"EW\" , \"EA\" , \"EMR\" , \"ETR\" , \"EOG\" , \"EFX\" , \"EQIX\" , \"EQR\" , \"ESS\" , \"EL\" , \"RE\" , \"EVRG\" , \"ES\" , \"EXC\" , \"EXPE\" , \"EXPD\" , \"EXR\" , \"XOM\" , \"FFIV\" , \"FB\" , \"FAST\" , \"FRT\" , \"FDX\" , \"FIS\" , \"FITB\" , \"FRC\" , \"FE\" , \"FISV\" , \"FLT\" , \"FLIR\" , \"FLS\" , \"FMC\" , \"F\" , \"FTNT\" , \"FTV\" , \"FBHS\" , \"FOXA\" , \"FOX\" , \"BEN\" , \"FCX\" , \"GPS\" , \"GRMN\" , \"IT\" , \"GD\" , \"GE\" , \"GIS\" , \"GM\" , \"GPC\" , \"GILD\" , \"GPN\" , \"GL\" , \"GS\" , \"GWW\" , \"HRB\" , \"HAL\" , \"HBI\" , \"HIG\" , \"HAS\" , \"HCA\" , \"PEAK\" , \"HSIC\" , \"HES\" , \"HPE\" , \"HLT\" , \"HFC\" , \"HOLX\" , \"HD\" , \"HON\" , \"HRL\" , \"HST\" , \"HWM\" , \"HPQ\" , \"HUM\" , \"HBAN\" , \"HII\" , \"IEX\" , \"IDXX\" , \"INFO\" , \"ITW\" , \"ILMN\" , \"INCY\" , \"IR\" , \"INTC\" , \"ICE\" , \"IBM\" , \"IFF\" , \"IP\" , \"IPG\" , \"INTU\" , \"ISRG\" , \"IVZ\" , \"IPGP\" , \"IQV\" , \"IRM\" , \"JBHT\" , \"JKHY\" , \"J\" , \"SJM\" , \"JNJ\" , \"JCI\" , \"JPM\" , \"JNPR\" , \"KSU\" , \"K\" , \"KEY\" , \"KEYS\" , \"KMB\" , \"KIM\" , \"KMI\" , \"KLAC\" , \"KSS\" , \"KHC\" , \"KR\" , \"LB\" , \"LHX\" , \"LH\" , \"LRCX\" , \"LW\" , \"LVS\" , \"LEG\" , \"LDOS\" , \"LEN\" , \"LLY\" , \"LNC\" , \"LIN\" , \"LYV\" , \"LKQ\" , \"LMT\" , \"L\" , \"LOW\" , \"LYB\" , \"MTB\" , \"MRO\" , \"MPC\" , \"MKTX\" , \"MAR\" , \"MMC\" , \"MLM\" , \"MAS\" , \"MA\" , \"MXIM\" , \"MKC\" , \"MCD\" , \"MCK\" , \"MDT\" , \"MRK\" , \"MET\" , \"MTD\" , \"MGM\" , \"MCHP\" , \"MU\" , \"MSFT\" , \"MAA\" , \"MHK\" , \"TAP\" , \"MDLZ\" , \"MNST\" , \"MCO\" , \"MS\" , \"MSI\" , \"MSCI\" , \"NDAQ\" , \"NOV\" , \"NTAP\" , \"NFLX\" , \"NWL\" , \"NEM\" , \"NWSA\" , \"NWS\" , \"NEE\" , \"NLSN\" , \"NKE\" , \"NI\" , \"NSC\" , \"NTRS\" , \"NOC\" , \"NLOK\" , \"NCLH\" , \"NRG\" , \"NUE\" , \"NVDA\" , \"NVR\" , \"ORLY\" , \"OXY\" , \"ODFL\" , \"OMC\" , \"OKE\" , \"ORCL\" , \"OTIS\" , \"PCAR\" , \"PKG\" , \"PH\" , \"PAYX\" , \"PAYC\" , \"PYPL\" , \"PNR\" , \"PBCT\" , \"PEP\" , \"PKI\" , \"PRGO\" , \"PFE\" , \"PM\" , \"PSX\" , \"PNW\" , \"PXD\" , \"PNC\" , \"PPG\" , \"PPL\" , \"PFG\" , \"PG\" , \"PGR\" , \"PLD\" , \"PRU\" , \"PEG\" , \"PSA\" , \"PHM\" , \"PVH\" , \"QRVO\" , \"QCOM\" , \"PWR\" , \"DGX\" , \"RL\" , \"RJF\" , \"RTX\" , \"O\" , \"REG\" , \"REGN\" , \"RF\" , \"RSG\" , \"RMD\" , \"RHI\" , \"ROK\" , \"ROL\" , \"ROP\" , \"ROST\" , \"RCL\" , \"SPGI\" , \"CRM\" , \"SBAC\" , \"SLB\" , \"STX\" , \"SEE\" , \"SRE\" , \"NOW\" , \"SHW\" , \"SPG\" , \"SWKS\" , \"SLG\" , \"SNA\" , \"SO\" , \"LUV\" , \"SWK\" , \"SBUX\" , \"STT\" , \"STE\" , \"SYK\" , \"SIVB\" , \"SYF\" , \"SNPS\" , \"SYY\" , \"TMUS\" , \"TROW\" , \"TTWO\" , \"TPR\" , \"TGT\" , \"TEL\" , \"FTI\" , \"TDY\" , \"TFX\" , \"TXN\" , \"TXT\" , \"BK\" , \"CLX\" , \"COO\" , \"HSY\" , \"MOS\" , \"TRV\" , \"DIS\" , \"TMO\" , \"TJX\" , \"TSCO\" , \"TT\" , \"TDG\" , \"TFC\" , \"TWTR\" , \"TYL\" , \"TSN\" , \"USB\" , \"UDR\" , \"ULTA\" , \"UAA\" , \"UA\" , \"UNP\" , \"UAL\" , \"UNH\" , \"UPS\" , \"URI\" , \"UHS\" , \"UNM\" , \"VLO\" , \"VAR\" , \"VTR\" , \"VRSN\" , \"VRSK\" , \"VZ\" , \"VRTX\" , \"VFC\" , \"VIAC\" , \"V\" , \"VNO\" , \"VMC\" , \"WRB\" , \"WAB\" , \"WBA\" , \"WMT\" , \"WM\" , \"WAT\" , \"WEC\" , \"WFC\" , \"WELL\" , \"WST\" , \"WDC\" , \"WU\" , \"WRK\" , \"WY\" , \"WHR\" , \"WMB\" , \"WLTW\" , \"WYNN\" , \"XEL\" , \"XRX\" , \"XLNX\" , \"XYL\" , \"YUM\" , \"ZBRA\" , \"ZBH\" , \"ZION\" , \"ZTS\"]"
      ],
      "execution_count": null,
      "outputs": []
    },
    {
      "cell_type": "code",
      "metadata": {
        "id": "pr6DjvhfgcCY"
      },
      "source": [
        "#Inspired by:https://nickmccullum.com/stock-market-sentiment-analysis-python/\n",
        "\n",
        "web_url = 'https://finviz.com/quote.ashx?t='\n",
        "news_tables = {}\n",
        "sent_tickers = Tickers\n",
        "#obtain and store data\n",
        "for tick in Tickers: \n",
        "    url = web_url + tick\n",
        "    req = Request(url=url,headers={\"User-Agent\": \"Chrome\"}) \n",
        "    print(tick)\n",
        "    feedback = urlopen(req)   \n",
        "    html = BeautifulSoup(feedback,\"html.parser\")\n",
        "    feedback = html.find(id='news-table')\n",
        "    news_tables[tick] = news_table\n",
        "\n",
        "#parsing the data into a list\n",
        "listof_headlines = []\n",
        "\n",
        "for file_name, news_table in news_tables.items():\n",
        "    for i in news_table.findAll('tr'):\n",
        "        \n",
        "        text = i.a.get_text() \n",
        "        \n",
        "        date_scrape = i.td.text.split()\n",
        "\n",
        "        if len(date_scrape) == 1:\n",
        "            time = date_scrape[0]\n",
        "            \n",
        "        else:\n",
        "            date = date_scrape[0]\n",
        "            time = date_scrape[1]\n",
        "\n",
        "        tick = file_name.split('_')[0]\n",
        "        \n",
        "        listof_headlines.append([tick, date, time, text])\n",
        "\n",
        "\n",
        "vader = SentimentIntensityAnalyzer()\n",
        "columns = ['ticker', 'date', 'time', 'headline']\n",
        "news_df = pd.DataFrame(listof_headlines, columns=columns)\n",
        "#apply vader to assign polarity scores to the said news headlines.\n",
        "scores = news_df['headline'].apply(vader.polarity_scores).tolist()\n",
        "scores_df = pd.DataFrame(scores)\n",
        "news_df = news_df.join(scores_df, rsuffix='_right')\n",
        "news_df['date'] = pd.to_datetime(news_df.date).dt.date\n",
        "Sentiment_scores = news_df\n"
      ],
      "execution_count": null,
      "outputs": []
    },
    {
      "cell_type": "code",
      "metadata": {
        "id": "f3jL7Nwfm35X"
      },
      "source": [
        "del Sentiment_scores['time']\n",
        "del Sentiment_scores['headline']\n",
        "#del Sentiment_scores['Unnamed: 0']\n",
        "\n",
        "Sentiment_scores.rename(columns = {'date':'Date','ticker':'Index'}, inplace = True) \n",
        "Sentiment_scores['Date']= pd.to_datetime(Sentiment_scores['Date'], errors='coerce')"
      ],
      "execution_count": null,
      "outputs": []
    },
    {
      "cell_type": "code",
      "metadata": {
        "colab": {
          "base_uri": "https://localhost:8080/"
        },
        "id": "DLnMzda-jZ2A",
        "outputId": "5a0d18c7-2c99-4549-c28f-82634b7c60b3"
      },
      "source": [
        "#exporting the predictions\n",
        "Sentiment_scores.to_csv('Sentiment_scores.csv')"
      ],
      "execution_count": null,
      "outputs": [
        {
          "output_type": "stream",
          "text": [
            "Mounted at drive\n"
          ],
          "name": "stdout"
        }
      ]
    }
  ]
}